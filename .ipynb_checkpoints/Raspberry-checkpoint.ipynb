{
 "cells": [
  {
   "cell_type": "code",
   "execution_count": null,
   "metadata": {},
   "outputs": [],
   "source": [
    "##TFMC degradation analysis for Raspberry"
   ]
  },
  {
   "cell_type": "code",
   "execution_count": null,
   "metadata": {},
   "outputs": [],
   "source": [
    "# DCC_PbSN_10\n",
    "## pretest 20210119 Shots 10-14\n",
    "%run calculate_IC.py"
   ]
  },
  {
   "cell_type": "code",
   "execution_count": null,
   "metadata": {},
   "outputs": [],
   "source": [
    "# DCC_PbSN_10\n",
    "## pretest 20210119 Shots 10-14\n",
    "%run calculate_IC.py"
   ]
  },
  {
   "cell_type": "code",
   "execution_count": null,
   "metadata": {},
   "outputs": [],
   "source": [
    "# DCC_PbSN_10\n",
    "## pretest 20210119 Shots 10-14\n",
    "%run calculate_IC.py"
   ]
  },
  {
   "cell_type": "code",
   "execution_count": null,
   "metadata": {},
   "outputs": [],
   "source": [
    "# DCC_PbSN_10\n",
    "## pretest 20210119 Shots 10-14\n",
    "%run calculate_IC.py"
   ]
  },
  {
   "cell_type": "code",
   "execution_count": null,
   "metadata": {},
   "outputs": [],
   "source": [
    "# DCC_PbSN_10\n",
    "## pretest 20210119 Shots 10-14\n",
    "%run calculate_IC.py"
   ]
  },
  {
   "cell_type": "code",
   "execution_count": null,
   "metadata": {},
   "outputs": [],
   "source": [
    "# DCC_PbSN_10\n",
    "## pretest 20210119 Shots 10-14\n",
    "%run calculate_IC.py"
   ]
  },
  {
   "cell_type": "code",
   "execution_count": null,
   "metadata": {},
   "outputs": [],
   "source": [
    "# DCC_PbSN_10\n",
    "## pretest 20210119 Shots 10-14\n",
    "%run calculate_IC.py"
   ]
  },
  {
   "cell_type": "code",
   "execution_count": null,
   "metadata": {},
   "outputs": [],
   "source": [
    "# DCC_PbSN_10\n",
    "## pretest 20210119 Shots 10-14\n",
    "%run calculate_IC.py"
   ]
  },
  {
   "cell_type": "code",
   "execution_count": null,
   "metadata": {},
   "outputs": [],
   "source": [
    "# DCC_PbSN_10\n",
    "## pretest 20210119 Shots 10-14\n",
    "%run calculate_IC.py"
   ]
  },
  {
   "cell_type": "code",
   "execution_count": null,
   "metadata": {},
   "outputs": [],
   "source": [
    "# DCC_PbSN_10\n",
    "## pretest 20210119 Shots 10-14\n",
    "%run calculate_IC.py"
   ]
  },
  {
   "cell_type": "code",
   "execution_count": null,
   "metadata": {},
   "outputs": [],
   "source": [
    "# DCC_PbSN_10\n",
    "## pretest 20210119 Shots 10-14\n",
    "%run calculate_IC.py"
   ]
  },
  {
   "cell_type": "code",
   "execution_count": null,
   "metadata": {},
   "outputs": [],
   "source": [
    "# DCC_PbSN_10\n",
    "## pretest 20210119 Shots 10-14\n",
    "%run calculate_IC.py"
   ]
  },
  {
   "cell_type": "code",
   "execution_count": null,
   "metadata": {},
   "outputs": [],
   "source": []
  }
 ],
 "metadata": {
  "kernelspec": {
   "display_name": "Python 3",
   "language": "python",
   "name": "python3"
  },
  "language_info": {
   "codemirror_mode": {
    "name": "ipython",
    "version": 3
   },
   "file_extension": ".py",
   "mimetype": "text/x-python",
   "name": "python",
   "nbconvert_exporter": "python",
   "pygments_lexer": "ipython3",
   "version": "3.8.2"
  }
 },
 "nbformat": 4,
 "nbformat_minor": 4
}
